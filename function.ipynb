{
 "cells": [
  {
   "cell_type": "code",
   "execution_count": 1,
   "id": "b0515413",
   "metadata": {},
   "outputs": [],
   "source": [
    "# Define the function \"say_hello\" so it prints \"Hello!\" when called.\n",
    "def say_hello():\n",
    "    print(\"Hello!\")"
   ]
  },
  {
   "cell_type": "code",
   "execution_count": 2,
   "id": "f22d7e91",
   "metadata": {},
   "outputs": [
    {
     "name": "stdout",
     "output_type": "stream",
     "text": [
      "Hello!\n"
     ]
    }
   ],
   "source": [
    "#call the function \n",
    "say_hello()\n"
   ]
  },
  {
   "cell_type": "code",
   "execution_count": 9,
   "id": "f7fa9593",
   "metadata": {},
   "outputs": [],
   "source": [
    "#Define the function \"say_something\" so it prints whatever is passed as the variable when called. \n",
    "def say_something(something):\n",
    "    print(something)\n",
    "    "
   ]
  },
  {
   "cell_type": "code",
   "execution_count": 10,
   "id": "ee715ed6",
   "metadata": {},
   "outputs": [
    {
     "name": "stdout",
     "output_type": "stream",
     "text": [
      "Hello World!\n"
     ]
    }
   ],
   "source": [
    "say_something(\"Hello World!\")\n"
   ]
  },
  {
   "cell_type": "code",
   "execution_count": 11,
   "id": "c443f99c",
   "metadata": {},
   "outputs": [
    {
     "name": "stdout",
     "output_type": "stream",
     "text": [
      "Hi! My name is Jane. I am learning Python!\n"
     ]
    }
   ],
   "source": [
    "Jane_says = \"Hi! My name is Jane. I am learning Python!\"\n",
    "say_something(Jane_says)"
   ]
  },
  {
   "cell_type": "code",
   "execution_count": 22,
   "id": "818aa580",
   "metadata": {},
   "outputs": [],
   "source": [
    "#Define a function that calculates the percentage of students that passed both \n",
    "#math and reading and prints the passing percentage to the output when the function is called. \n",
    "def passing_math_percent(pass_math_count, total_stundet_count):\n",
    "    return pass_math_count / float(total_student_count)*100"
   ]
  },
  {
   "cell_type": "code",
   "execution_count": 23,
   "id": "8312f4f1",
   "metadata": {},
   "outputs": [],
   "source": [
    "passing_math_count = 29370\n",
    "total_student_count = 39170"
   ]
  },
  {
   "cell_type": "code",
   "execution_count": 24,
   "id": "a220e439",
   "metadata": {},
   "outputs": [
    {
     "data": {
      "text/plain": [
       "74.9808526933878"
      ]
     },
     "execution_count": 24,
     "metadata": {},
     "output_type": "execute_result"
    }
   ],
   "source": [
    "#Call the function \n",
    "passing_math_percent(passing_math_count, total_student_count)"
   ]
  },
  {
   "cell_type": "code",
   "execution_count": 25,
   "id": "451812e9",
   "metadata": {},
   "outputs": [
    {
     "data": {
      "text/plain": [
       "0    B\n",
       "1    C\n",
       "2    B\n",
       "3    D\n",
       "dtype: object"
      ]
     },
     "execution_count": 25,
     "metadata": {},
     "output_type": "execute_result"
    }
   ],
   "source": [
    "# A list of my grades \n",
    "my_grades = ['B', 'C', 'B', 'D']\n",
    "\n",
    "# Import Pandas \n",
    "import pandas as pd \n",
    "\n",
    "#convert the my_grades to a Series \n",
    "my_grades = pd.Series(my_grades)\n",
    "my_grades\n"
   ]
  },
  {
   "cell_type": "code",
   "execution_count": 35,
   "id": "ffcb68c5",
   "metadata": {},
   "outputs": [
    {
     "data": {
      "text/plain": [
       "0    A\n",
       "1    B\n",
       "2    A\n",
       "3    C\n",
       "dtype: object"
      ]
     },
     "execution_count": 35,
     "metadata": {},
     "output_type": "execute_result"
    }
   ],
   "source": [
    "#Change the grades by one letter grade \n",
    "my_grades.map({'B':'A','C':'B', 'D':'C'})"
   ]
  },
  {
   "cell_type": "code",
   "execution_count": 36,
   "id": "055567ee",
   "metadata": {},
   "outputs": [
    {
     "name": "stdout",
     "output_type": "stream",
     "text": [
      "92\n",
      "85\n",
      "87\n",
      "98\n"
     ]
    }
   ],
   "source": [
    "#Using the format() function.\n",
    "my_grades = [92.34, 84.56, 86.78, 98.32]\n",
    "\n",
    "for grade in my_grades: \n",
    "    print(\"{:.0f}\".format)}"
   ]
  },
  {
   "cell_type": "code",
   "execution_count": 38,
   "id": "67a6da37",
   "metadata": {},
   "outputs": [
    {
     "data": {
      "text/plain": [
       "0    92\n",
       "1    85\n",
       "2    87\n",
       "3    98\n",
       "dtype: object"
      ]
     },
     "execution_count": 38,
     "metadata": {},
     "output_type": "execute_result"
    }
   ],
   "source": [
    "#Convert the numerical grades to a Series \n",
    "my_grades = pd.Series([92.34, 84.56, 86.78, 98.32])\n",
    "my_grades \n",
    "\n",
    "#Format the grades to the numerical whole number percent \n",
    "my_grades.map(\"{:.0f}\".format)"
   ]
  },
  {
   "cell_type": "code",
   "execution_count": null,
   "id": "292b11a4",
   "metadata": {},
   "outputs": [],
   "source": []
  }
 ],
 "metadata": {
  "kernelspec": {
   "display_name": "PythonData",
   "language": "python",
   "name": "pythondata"
  },
  "language_info": {
   "codemirror_mode": {
    "name": "ipython",
    "version": 3
   },
   "file_extension": ".py",
   "mimetype": "text/x-python",
   "name": "python",
   "nbconvert_exporter": "python",
   "pygments_lexer": "ipython3",
   "version": "3.8.8"
  }
 },
 "nbformat": 4,
 "nbformat_minor": 5
}
